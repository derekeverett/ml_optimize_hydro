{
 "cells": [
  {
   "cell_type": "code",
   "execution_count": 1,
   "metadata": {},
   "outputs": [
    {
     "name": "stderr",
     "output_type": "stream",
     "text": [
      "/Users/derek/miniconda3/lib/python3.6/site-packages/h5py/__init__.py:36: FutureWarning: Conversion of the second argument of issubdtype from `float` to `np.floating` is deprecated. In future, it will be treated as `np.float64 == np.dtype(float).type`.\n",
      "  from ._conv import register_converters as _register_converters\n",
      "Using TensorFlow backend.\n",
      "/Users/derek/miniconda3/lib/python3.6/site-packages/tensorflow/python/framework/dtypes.py:526: FutureWarning: Passing (type, 1) or '1type' as a synonym of type is deprecated; in a future version of numpy, it will be understood as (type, (1,)) / '(1,)type'.\n",
      "  _np_qint8 = np.dtype([(\"qint8\", np.int8, 1)])\n",
      "/Users/derek/miniconda3/lib/python3.6/site-packages/tensorflow/python/framework/dtypes.py:527: FutureWarning: Passing (type, 1) or '1type' as a synonym of type is deprecated; in a future version of numpy, it will be understood as (type, (1,)) / '(1,)type'.\n",
      "  _np_quint8 = np.dtype([(\"quint8\", np.uint8, 1)])\n",
      "/Users/derek/miniconda3/lib/python3.6/site-packages/tensorflow/python/framework/dtypes.py:528: FutureWarning: Passing (type, 1) or '1type' as a synonym of type is deprecated; in a future version of numpy, it will be understood as (type, (1,)) / '(1,)type'.\n",
      "  _np_qint16 = np.dtype([(\"qint16\", np.int16, 1)])\n",
      "/Users/derek/miniconda3/lib/python3.6/site-packages/tensorflow/python/framework/dtypes.py:529: FutureWarning: Passing (type, 1) or '1type' as a synonym of type is deprecated; in a future version of numpy, it will be understood as (type, (1,)) / '(1,)type'.\n",
      "  _np_quint16 = np.dtype([(\"quint16\", np.uint16, 1)])\n",
      "/Users/derek/miniconda3/lib/python3.6/site-packages/tensorflow/python/framework/dtypes.py:530: FutureWarning: Passing (type, 1) or '1type' as a synonym of type is deprecated; in a future version of numpy, it will be understood as (type, (1,)) / '(1,)type'.\n",
      "  _np_qint32 = np.dtype([(\"qint32\", np.int32, 1)])\n",
      "/Users/derek/miniconda3/lib/python3.6/site-packages/tensorflow/python/framework/dtypes.py:535: FutureWarning: Passing (type, 1) or '1type' as a synonym of type is deprecated; in a future version of numpy, it will be understood as (type, (1,)) / '(1,)type'.\n",
      "  np_resource = np.dtype([(\"resource\", np.ubyte, 1)])\n"
     ]
    }
   ],
   "source": [
    "#import necessary modules\n",
    "import numpy as np\n",
    "import matplotlib.pyplot as plt\n",
    "\n",
    "import dill\n",
    "\n",
    "from sklearn.preprocessing import MinMaxScaler\n",
    "from sklearn.preprocessing import StandardScaler\n",
    "from sklearn.preprocessing import Normalizer\n",
    "from sklearn.model_selection import train_test_split\n",
    "from sklearn.linear_model import LinearRegression\n",
    "from sklearn.decomposition import PCA\n",
    "from sklearn import svm\n",
    "\n",
    "import keras\n",
    "from keras.datasets import fashion_mnist \n",
    "from keras.layers import Dense, Activation, Flatten, Conv2D, MaxPooling2D\n",
    "from keras.models import Sequential\n",
    "from keras.utils import to_categorical\n",
    "\n",
    "#this can be used to center the image at center of mass\n",
    "#import scipy.ndimage.measurements.center_of_mass"
   ]
  },
  {
   "cell_type": "code",
   "execution_count": 2,
   "metadata": {},
   "outputs": [],
   "source": [
    "reload_profiles_from_disk=False"
   ]
  },
  {
   "cell_type": "code",
   "execution_count": 6,
   "metadata": {},
   "outputs": [],
   "source": [
    "#load the energy density and flow profiles, and freezeout radii \n",
    "#note that the physics here is rotationally invariant\n",
    "#we can exploit this to copy each profile 3 times, by rotating by 90 degrees each time\n",
    "#and using the same radius\n",
    "n_profiles = 100\n",
    "if reload_profiles_from_disk:\n",
    "    e_profiles = []\n",
    "    u_profiles = []\n",
    "    radii = []\n",
    "    for i in range(n_profiles):\n",
    "        e = np.loadtxt('profiles_and_radii/' + str(i) + '/e_projection.dat-0.dat')\n",
    "        u = np.loadtxt('profiles_and_radii/' + str(i) + '/u_tau_projection.dat-0.dat')\n",
    "    \n",
    "        #first let's cut of the edges of these profiles (empty space)\n",
    "        #and coarse grain the profiles by a factor\n",
    "        e = e[70:270:8,70:270:8]\n",
    "        u = u[70:270:8,70:270:8]    \n",
    "    \n",
    "        #the physics is invariant under rotations and parity\n",
    "        e_profiles.append(e)\n",
    "        e_profiles.append( np.rot90(e) )\n",
    "        e_profiles.append( np.rot90( np.rot90(e) ) )\n",
    "        e_profiles.append( np.rot90( np.rot90(np.rot90(e) ) ) )\n",
    "        e_profiles.append( np.flipud(e) )\n",
    "        e_profiles.append( np.fliplr(e) )\n",
    "    \n",
    "        #u_profiles.append(u)\n",
    "        #u_profiles.append( np.rot90(u) )\n",
    "        #u_profiles.append( np.rot90( np.rot90(u) ) )\n",
    "        #u_profiles.append( np.rot90( np.rot90( np.rot90(u) ) ) )\n",
    "   \n",
    "        try :\n",
    "            r = np.loadtxt('profiles_and_radii/' + str(i) + '/radius.dat-0.dat')\n",
    "            for i in range(6):\n",
    "                radii.append(r)\n",
    "        except :\n",
    "            #no radius file exists when radius is zero (no freezeout surface)\n",
    "            for i in range(6):\n",
    "                radii.append(0.)\n",
    "        \n",
    "    e_profiles = np.array(e_profiles)\n",
    "    u_profiles = np.array(u_profiles)\n",
    "    radii = np.array(radii)\n",
    "\n",
    "    #dump these to disk\n",
    "    with open('e.dill', 'wb') as e_file:\n",
    "        dill.dump(e_profiles, e_file)\n",
    "    with open('r.dill', 'wb') as r_file:\n",
    "        dill.dump(radii, r_file)"
   ]
  },
  {
   "cell_type": "code",
   "execution_count": 7,
   "metadata": {},
   "outputs": [],
   "source": [
    "with open('e.dill','rb') as e_file:\n",
    "    e_profiles = dill.load(e_file)\n",
    "with open('r.dill','rb') as r_file:\n",
    "    radii = dill.load(r_file)"
   ]
  },
  {
   "cell_type": "code",
   "execution_count": 8,
   "metadata": {},
   "outputs": [
    {
     "name": "stdout",
     "output_type": "stream",
     "text": [
      "profile_shape = (25, 25)\n"
     ]
    }
   ],
   "source": [
    "#get the dimensions of each image\n",
    "profile_shape = e_profiles[0].shape\n",
    "print(\"profile_shape = \" + str(profile_shape))\n",
    "n_profiles *= 6 #4 copies of each profile for 4 orienatation angles "
   ]
  },
  {
   "cell_type": "code",
   "execution_count": 9,
   "metadata": {},
   "outputs": [
    {
     "data": {
      "image/png": "[encoded data removed]",
      "text/plain": [
       "<Figure size 432x288 with 1 Axes>"
      ]
     },
     "metadata": {
      "needs_background": "light"
     },
     "output_type": "display_data"
    }
   ],
   "source": [
    "#lets look at the distribution of radii\n",
    "plt.hist(radii)\n",
    "plt.xlabel('radius')\n",
    "plt.show()"
   ]
  },
  {
   "cell_type": "code",
   "execution_count": 10,
   "metadata": {},
   "outputs": [
    {
     "data": {
      "image/png": "[encoded data removed]",
      "text/plain": [
       "<Figure size 288x288 with 2 Axes>"
      ]
     },
     "metadata": {
      "needs_background": "light"
     },
     "output_type": "display_data"
    },
    {
     "name": "stdout",
     "output_type": "stream",
     "text": [
      "radius = 16.503943612\n"
     ]
    }
   ],
   "source": [
    "#lets look at an energy density and flow profile\n",
    "choice = 10\n",
    "mat = plt.matshow(e_profiles[choice])\n",
    "cbar = plt.colorbar(mat)\n",
    "plt.title(\"Energy Density\")\n",
    "plt.axis('off')\n",
    "plt.show()\n",
    "print(\"radius = \" + str(radii[choice]))"
   ]
  },
  {
   "cell_type": "code",
   "execution_count": 11,
   "metadata": {},
   "outputs": [],
   "source": [
    "#lets define our own global scaling function, that preserves the physics\n",
    "#a larger energy density normalization -> larger radius\n",
    "def global_scaler(X):\n",
    "    X *= (1.0/X.max())\n",
    "    return X"
   ]
  },
  {
   "cell_type": "code",
   "execution_count": 12,
   "metadata": {},
   "outputs": [],
   "source": [
    "#Lets first try to train a model using only the energy density\n",
    "#our features are the energy density profile, and 'labels' are the radii\n",
    "X = e_profiles\n",
    "y = radii\n",
    "\n",
    "#reshape the features and targets to 2D array \n",
    "X = X.reshape((n_profiles, profile_shape[0]**2))"
   ]
  },
  {
   "cell_type": "code",
   "execution_count": 13,
   "metadata": {},
   "outputs": [],
   "source": [
    "#use global scaler \n",
    "X_scaled = global_scaler(X)\n",
    "\n",
    "#split into training and testing sets \n",
    "X_train, X_test, y_train, y_test = train_test_split(X_scaled, y, test_size = 0.2, random_state=1, shuffle=False)\n",
    "\n",
    "#use standardscaler\n",
    "#X_scaler = StandardScaler()\n",
    "#X_scaler.fit(X_train)\n",
    " \n",
    "#use minmaxscaler\n",
    "#X_scaler = MinMaxScaler(feature_range=(0,1))\n",
    "\n",
    "#use normalizer\n",
    "#X_scaler = Normalizer()\n",
    "#y_scaler = Normalizer()\n",
    "\n",
    "#X_train = X_scaler.transform(X_train)\n",
    "#X_test = X_scaler.transform(X_test)"
   ]
  },
  {
   "cell_type": "code",
   "execution_count": 14,
   "metadata": {},
   "outputs": [
    {
     "data": {
      "image/png": "[encoded data removed]",
      "text/plain": [
       "<Figure size 288x288 with 2 Axes>"
      ]
     },
     "metadata": {
      "needs_background": "light"
     },
     "output_type": "display_data"
    }
   ],
   "source": [
    "mat = plt.matshow(X_train[choice].reshape(profile_shape))\n",
    "cbar = plt.colorbar(mat)\n",
    "plt.title(\"Scaled Energy Density\")\n",
    "plt.axis('off')\n",
    "plt.show()"
   ]
  },
  {
   "cell_type": "code",
   "execution_count": 15,
   "metadata": {},
   "outputs": [
    {
     "name": "stdout",
     "output_type": "stream",
     "text": [
      "Explained variance ratio = [0.87077673 0.0244857  0.01672022 0.01508675 0.01234704 0.00796001\n",
      " 0.00593446]\n",
      "Singular Values = [12.82589962  2.15075391  1.77727829  1.68823238  1.52726997  1.22628468\n",
      "  1.05882662]\n"
     ]
    }
   ],
   "source": [
    "#Linear Regression fits the training set because of overfitting! (too many parameters)\n",
    "#first we need to do PCA\n",
    "pca = PCA(0.95)\n",
    "pca.fit(X_train) #fit the transformation to only the training data\n",
    "print(\"Explained variance ratio = \" + str(pca.explained_variance_ratio_))  \n",
    "print(\"Singular Values = \" + str(pca.singular_values_)) "
   ]
  },
  {
   "cell_type": "code",
   "execution_count": 16,
   "metadata": {},
   "outputs": [
    {
     "name": "stdout",
     "output_type": "stream",
     "text": [
      "(120, 7)\n"
     ]
    }
   ],
   "source": [
    "#transform the data\n",
    "X_train_pc = pca.transform(X_train)\n",
    "X_test_pc = pca.transform(X_test)\n",
    "print(X_test_pc.shape)\n",
    "#mat = plt.matshow(X_train_pc[choice].reshape(profile_shape))\n",
    "#cbar = plt.colorbar(mat)\n",
    "#plt.title(\"Scaled Energy Density\")\n",
    "#plt.axis('off')\n",
    "#plt.show()"
   ]
  },
  {
   "cell_type": "code",
   "execution_count": 19,
   "metadata": {},
   "outputs": [
    {
     "data": {
      "image/png": "[encoded data removed]",
      "text/plain": [
       "<Figure size 432x288 with 1 Axes>"
      ]
     },
     "metadata": {
      "needs_background": "light"
     },
     "output_type": "display_data"
    }
   ],
   "source": [
    "#Linear Regression\n",
    "lin_reg_model = LinearRegression().fit(X_train, y_train)\n",
    "lin_predictions = lin_reg_model.predict(X_train) \n",
    "plt.scatter(y_train, lin_predictions)\n",
    "plt.plot(y_train, y_train, color='black')\n",
    "plt.xlabel('True radius')\n",
    "plt.ylabel('predicted radius')\n",
    "plt.show()"
   ]
  },
  {
   "cell_type": "code",
   "execution_count": 20,
   "metadata": {},
   "outputs": [
    {
     "data": {
      "image/png": "[encoded data removed]",
      "text/plain": [
       "<Figure size 432x288 with 1 Axes>"
      ]
     },
     "metadata": {
      "needs_background": "light"
     },
     "output_type": "display_data"
    }
   ],
   "source": [
    "#we can try Support Vector Machines for SVM Regression\n",
    "svr_linear_model = svm.SVR(kernel='linear', gamma='auto', C=2.0, epsilon=0.1)\n",
    "svr_linear_model.fit(X_train, y_train)\n",
    "svr_linear_predictions = svr_linear_model.predict(X_train) \n",
    "plt.scatter(y_train, svr_linear_predictions)\n",
    "plt.plot(y_train, y_train, color='black')\n",
    "plt.xlabel('True radius')\n",
    "plt.ylabel('predicted radius')\n",
    "plt.show()"
   ]
  },
  {
   "cell_type": "code",
   "execution_count": 21,
   "metadata": {},
   "outputs": [
    {
     "data": {
      "image/png": "[encoded data removed]",
      "text/plain": [
       "<Figure size 432x288 with 1 Axes>"
      ]
     },
     "metadata": {
      "needs_background": "light"
     },
     "output_type": "display_data"
    }
   ],
   "source": [
    "#SVM with RBF kernel\n",
    "svr_rbf_model = svm.SVR(kernel='rbf', gamma = 'auto', C=1.0, epsilon=0.1)\n",
    "svr_rbf_model.fit(X_train, y_train)\n",
    "svr_rbf_predictions = svr_rbf_model.predict(X_train)\n",
    "plt.scatter(y_train, svr_rbf_predictions)\n",
    "plt.plot(y_train, y_train, color='black')\n",
    "plt.xlabel('True radius')\n",
    "plt.ylabel('predicted radius')\n",
    "plt.show()"
   ]
  },
  {
   "cell_type": "code",
   "execution_count": 22,
   "metadata": {},
   "outputs": [
    {
     "data": {
      "image/png": "[encoded data removed]",
      "text/plain": [
       "<Figure size 432x288 with 1 Axes>"
      ]
     },
     "metadata": {
      "needs_background": "light"
     },
     "output_type": "display_data"
    }
   ],
   "source": [
    "svr_poly_model = svm.SVR(kernel='poly', gamma='auto', degree=3, epsilon=.5,\n",
    "               coef0=1)\n",
    "svr_poly_model.fit(X_train, y_train)\n",
    "svr_poly_predictions = svr_poly_model.predict(X_test)\n",
    "plt.scatter(y_test, svr_poly_predictions)\n",
    "plt.plot(y_test, y_test, color='black')\n",
    "#plt.xlim(0,15)\n",
    "#plt.ylim(0,15)\n",
    "plt.xlabel('True radius')\n",
    "plt.ylabel('predicted radius')\n",
    "plt.show()"
   ]
  },
  {
   "cell_type": "code",
   "execution_count": 23,
   "metadata": {},
   "outputs": [
    {
     "name": "stdout",
     "output_type": "stream",
     "text": [
      "WARNING:tensorflow:From /Users/derek/miniconda3/lib/python3.6/site-packages/tensorflow/python/framework/op_def_library.py:263: colocate_with (from tensorflow.python.framework.ops) is deprecated and will be removed in a future version.\n",
      "Instructions for updating:\n",
      "Colocations handled automatically by placer.\n"
     ]
    },
    {
     "ename": "ValueError",
     "evalue": "Input arrays should have the same number of samples as target arrays. Found 120 input samples and 480 target samples.",
     "output_type": "error",
     "traceback": [
      "\u001b[0;31m---------------------------------------------------------------------------\u001b[0m",
      "\u001b[0;31mValueError\u001b[0m                                Traceback (most recent call last)",
      "\u001b[0;32m<ipython-input-23-3812eaf72523>\u001b[0m in \u001b[0;36m<module>\u001b[0;34m\u001b[0m\n\u001b[1;32m     14\u001b[0m \u001b[0mcnn_model\u001b[0m\u001b[0;34m.\u001b[0m\u001b[0madd\u001b[0m\u001b[0;34m(\u001b[0m\u001b[0mDense\u001b[0m\u001b[0;34m(\u001b[0m\u001b[0;36m1\u001b[0m\u001b[0;34m)\u001b[0m\u001b[0;34m)\u001b[0m\u001b[0;34m\u001b[0m\u001b[0;34m\u001b[0m\u001b[0m\n\u001b[1;32m     15\u001b[0m \u001b[0mcnn_model\u001b[0m\u001b[0;34m.\u001b[0m\u001b[0mcompile\u001b[0m\u001b[0;34m(\u001b[0m\u001b[0mloss\u001b[0m\u001b[0;34m=\u001b[0m\u001b[0mkeras\u001b[0m\u001b[0;34m.\u001b[0m\u001b[0mlosses\u001b[0m\u001b[0;34m.\u001b[0m\u001b[0mmean_squared_error\u001b[0m\u001b[0;34m,\u001b[0m \u001b[0moptimizer\u001b[0m\u001b[0;34m=\u001b[0m\u001b[0mkeras\u001b[0m\u001b[0;34m.\u001b[0m\u001b[0moptimizers\u001b[0m\u001b[0;34m.\u001b[0m\u001b[0mAdam\u001b[0m\u001b[0;34m(\u001b[0m\u001b[0;34m)\u001b[0m\u001b[0;34m,\u001b[0m\u001b[0mmetrics\u001b[0m\u001b[0;34m=\u001b[0m\u001b[0;34m[\u001b[0m\u001b[0;34m'accuracy'\u001b[0m\u001b[0;34m]\u001b[0m\u001b[0;34m)\u001b[0m\u001b[0;34m\u001b[0m\u001b[0;34m\u001b[0m\u001b[0m\n\u001b[0;32m---> 16\u001b[0;31m \u001b[0mcnn_model\u001b[0m\u001b[0;34m.\u001b[0m\u001b[0mfit\u001b[0m\u001b[0;34m(\u001b[0m\u001b[0mX_train\u001b[0m\u001b[0;34m,\u001b[0m \u001b[0my_train\u001b[0m\u001b[0;34m,\u001b[0m \u001b[0mbatch_size\u001b[0m\u001b[0;34m=\u001b[0m\u001b[0;36m64\u001b[0m\u001b[0;34m,\u001b[0m \u001b[0mepochs\u001b[0m\u001b[0;34m=\u001b[0m\u001b[0;36m10\u001b[0m\u001b[0;34m)\u001b[0m\u001b[0;34m\u001b[0m\u001b[0;34m\u001b[0m\u001b[0m\n\u001b[0m",
      "\u001b[0;32m~/miniconda3/lib/python3.6/site-packages/keras/engine/training.py\u001b[0m in \u001b[0;36mfit\u001b[0;34m(self, x, y, batch_size, epochs, verbose, callbacks, validation_split, validation_data, shuffle, class_weight, sample_weight, initial_epoch, steps_per_epoch, validation_steps, **kwargs)\u001b[0m\n\u001b[1;32m    950\u001b[0m             \u001b[0msample_weight\u001b[0m\u001b[0;34m=\u001b[0m\u001b[0msample_weight\u001b[0m\u001b[0;34m,\u001b[0m\u001b[0;34m\u001b[0m\u001b[0;34m\u001b[0m\u001b[0m\n\u001b[1;32m    951\u001b[0m             \u001b[0mclass_weight\u001b[0m\u001b[0;34m=\u001b[0m\u001b[0mclass_weight\u001b[0m\u001b[0;34m,\u001b[0m\u001b[0;34m\u001b[0m\u001b[0;34m\u001b[0m\u001b[0m\n\u001b[0;32m--> 952\u001b[0;31m             batch_size=batch_size)\n\u001b[0m\u001b[1;32m    953\u001b[0m         \u001b[0;31m# Prepare validation data.\u001b[0m\u001b[0;34m\u001b[0m\u001b[0;34m\u001b[0m\u001b[0;34m\u001b[0m\u001b[0m\n\u001b[1;32m    954\u001b[0m         \u001b[0mdo_validation\u001b[0m \u001b[0;34m=\u001b[0m \u001b[0;32mFalse\u001b[0m\u001b[0;34m\u001b[0m\u001b[0;34m\u001b[0m\u001b[0m\n",
      "\u001b[0;32m~/miniconda3/lib/python3.6/site-packages/keras/engine/training.py\u001b[0m in \u001b[0;36m_standardize_user_data\u001b[0;34m(self, x, y, sample_weight, class_weight, check_array_lengths, batch_size)\u001b[0m\n\u001b[1;32m    802\u001b[0m             ]\n\u001b[1;32m    803\u001b[0m             \u001b[0;31m# Check that all arrays have the same length.\u001b[0m\u001b[0;34m\u001b[0m\u001b[0;34m\u001b[0m\u001b[0;34m\u001b[0m\u001b[0m\n\u001b[0;32m--> 804\u001b[0;31m             \u001b[0mcheck_array_length_consistency\u001b[0m\u001b[0;34m(\u001b[0m\u001b[0mx\u001b[0m\u001b[0;34m,\u001b[0m \u001b[0my\u001b[0m\u001b[0;34m,\u001b[0m \u001b[0msample_weights\u001b[0m\u001b[0;34m)\u001b[0m\u001b[0;34m\u001b[0m\u001b[0;34m\u001b[0m\u001b[0m\n\u001b[0m\u001b[1;32m    805\u001b[0m             \u001b[0;32mif\u001b[0m \u001b[0mself\u001b[0m\u001b[0;34m.\u001b[0m\u001b[0m_is_graph_network\u001b[0m\u001b[0;34m:\u001b[0m\u001b[0;34m\u001b[0m\u001b[0;34m\u001b[0m\u001b[0m\n\u001b[1;32m    806\u001b[0m                 \u001b[0;31m# Additional checks to avoid users mistakenly\u001b[0m\u001b[0;34m\u001b[0m\u001b[0;34m\u001b[0m\u001b[0;34m\u001b[0m\u001b[0m\n",
      "\u001b[0;32m~/miniconda3/lib/python3.6/site-packages/keras/engine/training_utils.py\u001b[0m in \u001b[0;36mcheck_array_length_consistency\u001b[0;34m(inputs, targets, weights)\u001b[0m\n\u001b[1;32m    235\u001b[0m                          \u001b[0;34m'the same number of samples as target arrays. '\u001b[0m\u001b[0;34m\u001b[0m\u001b[0;34m\u001b[0m\u001b[0m\n\u001b[1;32m    236\u001b[0m                          \u001b[0;34m'Found '\u001b[0m \u001b[0;34m+\u001b[0m \u001b[0mstr\u001b[0m\u001b[0;34m(\u001b[0m\u001b[0mlist\u001b[0m\u001b[0;34m(\u001b[0m\u001b[0mset_x\u001b[0m\u001b[0;34m)\u001b[0m\u001b[0;34m[\u001b[0m\u001b[0;36m0\u001b[0m\u001b[0;34m]\u001b[0m\u001b[0;34m)\u001b[0m \u001b[0;34m+\u001b[0m \u001b[0;34m' input samples '\u001b[0m\u001b[0;34m\u001b[0m\u001b[0;34m\u001b[0m\u001b[0m\n\u001b[0;32m--> 237\u001b[0;31m                          'and ' + str(list(set_y)[0]) + ' target samples.')\n\u001b[0m\u001b[1;32m    238\u001b[0m     \u001b[0;32mif\u001b[0m \u001b[0mlen\u001b[0m\u001b[0;34m(\u001b[0m\u001b[0mset_w\u001b[0m\u001b[0;34m)\u001b[0m \u001b[0;34m>\u001b[0m \u001b[0;36m1\u001b[0m\u001b[0;34m:\u001b[0m\u001b[0;34m\u001b[0m\u001b[0;34m\u001b[0m\u001b[0m\n\u001b[1;32m    239\u001b[0m         raise ValueError('All sample_weight arrays should have '\n",
      "\u001b[0;31mValueError\u001b[0m: Input arrays should have the same number of samples as target arrays. Found 120 input samples and 480 target samples."
     ]
    }
   ],
   "source": [
    "#try CNN\n",
    "X_train = X_train.reshape(-1, 50, 50, 1)\n",
    "X_test = X_test.reshape(-1, 50, 50, 1)\n",
    "\n",
    "cnn_model = Sequential()\n",
    "cnn_model.add(Conv2D(64, (3,3), input_shape=(50, 50, 1)))\n",
    "cnn_model.add(Activation('relu'))\n",
    "cnn_model.add(MaxPooling2D(pool_size=(2,2)))\n",
    "cnn_model.add(Conv2D(64, (3,3)))\n",
    "cnn_model.add(Activation('relu'))\n",
    "cnn_model.add(MaxPooling2D(pool_size=(2,2)))\n",
    "cnn_model.add(Flatten())\n",
    "#cnn_model.add(Dense(64))\n",
    "cnn_model.add(Dense(1))\n",
    "cnn_model.compile(loss=keras.losses.mean_squared_error, optimizer=keras.optimizers.Adam(),metrics=['accuracy'])\n",
    "cnn_model.fit(X_train, y_train, batch_size=64, epochs=10)"
   ]
  },
  {
   "cell_type": "code",
   "execution_count": null,
   "metadata": {},
   "outputs": [],
   "source": [
    "cnn_predictions = cnn_model.predict(X_train)\n",
    "plt.scatter(y_train, cnn_predictions)\n",
    "plt.plot(y_train, y_train, color='black')\n",
    "#plt.xlim(0,12)\n",
    "#plt.ylim(0,12)\n",
    "plt.xlabel('True radius')\n",
    "plt.ylabel('predicted radius')\n",
    "plt.show()"
   ]
  },
  {
   "cell_type": "code",
   "execution_count": null,
   "metadata": {},
   "outputs": [],
   "source": []
  }
 ],
 "metadata": {
  "kernelspec": {
   "display_name": "Python 3",
   "language": "python",
   "name": "python3"
  },
  "language_info": {
   "codemirror_mode": {
    "name": "ipython",
    "version": 3
   },
   "file_extension": ".py",
   "mimetype": "text/x-python",
   "name": "python",
   "nbconvert_exporter": "python",
   "pygments_lexer": "ipython3",
   "version": "3.6.8"
  }
 },
 "nbformat": 4,
 "nbformat_minor": 2
}
